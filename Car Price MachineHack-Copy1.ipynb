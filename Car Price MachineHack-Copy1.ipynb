{
 "cells": [
  {
   "cell_type": "code",
   "execution_count": 1,
   "metadata": {},
   "outputs": [],
   "source": [
    "import numpy as np\n",
    "import pandas as pd\n",
    "import matplotlib.pyplot as plt\n",
    "import seaborn as sns"
   ]
  },
  {
   "cell_type": "code",
   "execution_count": 2,
   "metadata": {},
   "outputs": [
    {
     "data": {
      "text/plain": [
       "(19237, 18)"
      ]
     },
     "execution_count": 2,
     "metadata": {},
     "output_type": "execute_result"
    }
   ],
   "source": [
    "df1 = pd.read_csv('train.csv')\n",
    "df1.shape"
   ]
  },
  {
   "cell_type": "code",
   "execution_count": 3,
   "metadata": {},
   "outputs": [
    {
     "data": {
      "text/plain": [
       "(8245, 18)"
      ]
     },
     "execution_count": 3,
     "metadata": {},
     "output_type": "execute_result"
    }
   ],
   "source": [
    "df2 = pd.read_csv('test.csv')\n",
    "df2.shape"
   ]
  },
  {
   "cell_type": "code",
   "execution_count": 4,
   "metadata": {},
   "outputs": [
    {
     "name": "stdout",
     "output_type": "stream",
     "text": [
      "<class 'pandas.core.frame.DataFrame'>\n",
      "RangeIndex: 19237 entries, 0 to 19236\n",
      "Data columns (total 18 columns):\n",
      " #   Column            Non-Null Count  Dtype  \n",
      "---  ------            --------------  -----  \n",
      " 0   ID                19237 non-null  int64  \n",
      " 1   Price             19237 non-null  int64  \n",
      " 2   Levy              19237 non-null  object \n",
      " 3   Manufacturer      19237 non-null  object \n",
      " 4   Model             19237 non-null  object \n",
      " 5   Prod. year        19237 non-null  int64  \n",
      " 6   Category          19237 non-null  object \n",
      " 7   Leather interior  19237 non-null  object \n",
      " 8   Fuel type         19237 non-null  object \n",
      " 9   Engine volume     19237 non-null  object \n",
      " 10  Mileage           19237 non-null  object \n",
      " 11  Cylinders         19237 non-null  float64\n",
      " 12  Gear box type     19237 non-null  object \n",
      " 13  Drive wheels      19237 non-null  object \n",
      " 14  Doors             19237 non-null  object \n",
      " 15  Wheel             19237 non-null  object \n",
      " 16  Color             19237 non-null  object \n",
      " 17  Airbags           19237 non-null  int64  \n",
      "dtypes: float64(1), int64(4), object(13)\n",
      "memory usage: 2.6+ MB\n"
     ]
    }
   ],
   "source": [
    "df1.info()"
   ]
  },
  {
   "cell_type": "code",
   "execution_count": 5,
   "metadata": {
    "scrolled": true
   },
   "outputs": [
    {
     "data": {
      "text/html": [
       "<div>\n",
       "<style scoped>\n",
       "    .dataframe tbody tr th:only-of-type {\n",
       "        vertical-align: middle;\n",
       "    }\n",
       "\n",
       "    .dataframe tbody tr th {\n",
       "        vertical-align: top;\n",
       "    }\n",
       "\n",
       "    .dataframe thead th {\n",
       "        text-align: right;\n",
       "    }\n",
       "</style>\n",
       "<table border=\"1\" class=\"dataframe\">\n",
       "  <thead>\n",
       "    <tr style=\"text-align: right;\">\n",
       "      <th></th>\n",
       "      <th>ID</th>\n",
       "      <th>Price</th>\n",
       "      <th>Levy</th>\n",
       "      <th>Manufacturer</th>\n",
       "      <th>Model</th>\n",
       "      <th>Prod. year</th>\n",
       "      <th>Category</th>\n",
       "      <th>Leather interior</th>\n",
       "      <th>Fuel type</th>\n",
       "      <th>Engine volume</th>\n",
       "      <th>Mileage</th>\n",
       "      <th>Cylinders</th>\n",
       "      <th>Gear box type</th>\n",
       "      <th>Drive wheels</th>\n",
       "      <th>Doors</th>\n",
       "      <th>Wheel</th>\n",
       "      <th>Color</th>\n",
       "      <th>Airbags</th>\n",
       "    </tr>\n",
       "  </thead>\n",
       "  <tbody>\n",
       "    <tr>\n",
       "      <th>0</th>\n",
       "      <td>45654403</td>\n",
       "      <td>13328</td>\n",
       "      <td>1399</td>\n",
       "      <td>LEXUS</td>\n",
       "      <td>RX 450</td>\n",
       "      <td>2010</td>\n",
       "      <td>Jeep</td>\n",
       "      <td>Yes</td>\n",
       "      <td>Hybrid</td>\n",
       "      <td>3.5</td>\n",
       "      <td>186005 km</td>\n",
       "      <td>6.0</td>\n",
       "      <td>Automatic</td>\n",
       "      <td>4x4</td>\n",
       "      <td>04-May</td>\n",
       "      <td>Left wheel</td>\n",
       "      <td>Silver</td>\n",
       "      <td>12</td>\n",
       "    </tr>\n",
       "    <tr>\n",
       "      <th>1</th>\n",
       "      <td>44731507</td>\n",
       "      <td>16621</td>\n",
       "      <td>1018</td>\n",
       "      <td>CHEVROLET</td>\n",
       "      <td>Equinox</td>\n",
       "      <td>2011</td>\n",
       "      <td>Jeep</td>\n",
       "      <td>No</td>\n",
       "      <td>Petrol</td>\n",
       "      <td>3</td>\n",
       "      <td>192000 km</td>\n",
       "      <td>6.0</td>\n",
       "      <td>Tiptronic</td>\n",
       "      <td>4x4</td>\n",
       "      <td>04-May</td>\n",
       "      <td>Left wheel</td>\n",
       "      <td>Black</td>\n",
       "      <td>8</td>\n",
       "    </tr>\n",
       "    <tr>\n",
       "      <th>2</th>\n",
       "      <td>45774419</td>\n",
       "      <td>8467</td>\n",
       "      <td>-</td>\n",
       "      <td>HONDA</td>\n",
       "      <td>FIT</td>\n",
       "      <td>2006</td>\n",
       "      <td>Hatchback</td>\n",
       "      <td>No</td>\n",
       "      <td>Petrol</td>\n",
       "      <td>1.3</td>\n",
       "      <td>200000 km</td>\n",
       "      <td>4.0</td>\n",
       "      <td>Variator</td>\n",
       "      <td>Front</td>\n",
       "      <td>04-May</td>\n",
       "      <td>Right-hand drive</td>\n",
       "      <td>Black</td>\n",
       "      <td>2</td>\n",
       "    </tr>\n",
       "    <tr>\n",
       "      <th>3</th>\n",
       "      <td>45769185</td>\n",
       "      <td>3607</td>\n",
       "      <td>862</td>\n",
       "      <td>FORD</td>\n",
       "      <td>Escape</td>\n",
       "      <td>2011</td>\n",
       "      <td>Jeep</td>\n",
       "      <td>Yes</td>\n",
       "      <td>Hybrid</td>\n",
       "      <td>2.5</td>\n",
       "      <td>168966 km</td>\n",
       "      <td>4.0</td>\n",
       "      <td>Automatic</td>\n",
       "      <td>4x4</td>\n",
       "      <td>04-May</td>\n",
       "      <td>Left wheel</td>\n",
       "      <td>White</td>\n",
       "      <td>0</td>\n",
       "    </tr>\n",
       "    <tr>\n",
       "      <th>4</th>\n",
       "      <td>45809263</td>\n",
       "      <td>11726</td>\n",
       "      <td>446</td>\n",
       "      <td>HONDA</td>\n",
       "      <td>FIT</td>\n",
       "      <td>2014</td>\n",
       "      <td>Hatchback</td>\n",
       "      <td>Yes</td>\n",
       "      <td>Petrol</td>\n",
       "      <td>1.3</td>\n",
       "      <td>91901 km</td>\n",
       "      <td>4.0</td>\n",
       "      <td>Automatic</td>\n",
       "      <td>Front</td>\n",
       "      <td>04-May</td>\n",
       "      <td>Left wheel</td>\n",
       "      <td>Silver</td>\n",
       "      <td>4</td>\n",
       "    </tr>\n",
       "  </tbody>\n",
       "</table>\n",
       "</div>"
      ],
      "text/plain": [
       "         ID  Price  Levy Manufacturer    Model  Prod. year   Category  \\\n",
       "0  45654403  13328  1399        LEXUS   RX 450        2010       Jeep   \n",
       "1  44731507  16621  1018    CHEVROLET  Equinox        2011       Jeep   \n",
       "2  45774419   8467     -        HONDA      FIT        2006  Hatchback   \n",
       "3  45769185   3607   862         FORD   Escape        2011       Jeep   \n",
       "4  45809263  11726   446        HONDA      FIT        2014  Hatchback   \n",
       "\n",
       "  Leather interior Fuel type Engine volume    Mileage  Cylinders  \\\n",
       "0              Yes    Hybrid           3.5  186005 km        6.0   \n",
       "1               No    Petrol             3  192000 km        6.0   \n",
       "2               No    Petrol           1.3  200000 km        4.0   \n",
       "3              Yes    Hybrid           2.5  168966 km        4.0   \n",
       "4              Yes    Petrol           1.3   91901 km        4.0   \n",
       "\n",
       "  Gear box type Drive wheels   Doors             Wheel   Color  Airbags  \n",
       "0     Automatic          4x4  04-May        Left wheel  Silver       12  \n",
       "1     Tiptronic          4x4  04-May        Left wheel   Black        8  \n",
       "2      Variator        Front  04-May  Right-hand drive   Black        2  \n",
       "3     Automatic          4x4  04-May        Left wheel   White        0  \n",
       "4     Automatic        Front  04-May        Left wheel  Silver        4  "
      ]
     },
     "execution_count": 5,
     "metadata": {},
     "output_type": "execute_result"
    }
   ],
   "source": [
    "df1.head()"
   ]
  },
  {
   "cell_type": "code",
   "execution_count": 6,
   "metadata": {},
   "outputs": [],
   "source": [
    "df3=df1[['Price', 'Levy', 'Manufacturer', 'Model', 'Prod. year',\n",
    "       'Category', 'Leather interior', 'Fuel type', 'Engine volume', 'Mileage',\n",
    "       'Cylinders', 'Gear box type', 'Drive wheels', 'Doors', 'Wheel', 'Color', 'Airbags']]"
   ]
  },
  {
   "cell_type": "code",
   "execution_count": 7,
   "metadata": {},
   "outputs": [
    {
     "data": {
      "text/plain": [
       "Index(['Price', 'Levy', 'Manufacturer', 'Model', 'Prod. year', 'Category',\n",
       "       'Leather interior', 'Fuel type', 'Engine volume', 'Mileage',\n",
       "       'Cylinders', 'Gear box type', 'Drive wheels', 'Doors', 'Wheel', 'Color',\n",
       "       'Airbags'],\n",
       "      dtype='object')"
      ]
     },
     "execution_count": 7,
     "metadata": {},
     "output_type": "execute_result"
    }
   ],
   "source": [
    "df3.columns"
   ]
  },
  {
   "cell_type": "code",
   "execution_count": 8,
   "metadata": {},
   "outputs": [],
   "source": [
    "df4=df2[['Price', 'Levy', 'Manufacturer', 'Model', 'Prod. year',\n",
    "       'Category', 'Leather interior', 'Fuel type', 'Engine volume', 'Mileage',\n",
    "       'Cylinders', 'Gear box type', 'Drive wheels', 'Doors', 'Wheel', 'Color', 'Airbags']]"
   ]
  },
  {
   "cell_type": "code",
   "execution_count": 9,
   "metadata": {},
   "outputs": [
    {
     "data": {
      "text/plain": [
       "Index(['Price', 'Levy', 'Manufacturer', 'Model', 'Prod. year', 'Category',\n",
       "       'Leather interior', 'Fuel type', 'Engine volume', 'Mileage',\n",
       "       'Cylinders', 'Gear box type', 'Drive wheels', 'Doors', 'Wheel', 'Color',\n",
       "       'Airbags'],\n",
       "      dtype='object')"
      ]
     },
     "execution_count": 9,
     "metadata": {},
     "output_type": "execute_result"
    }
   ],
   "source": [
    "df4.columns"
   ]
  },
  {
   "cell_type": "code",
   "execution_count": 10,
   "metadata": {},
   "outputs": [
    {
     "data": {
      "text/plain": [
       "0.3024899932421895"
      ]
     },
     "execution_count": 10,
     "metadata": {},
     "output_type": "execute_result"
    }
   ],
   "source": [
    "len(df3[df3['Levy']=='-'])/19237"
   ]
  },
  {
   "cell_type": "markdown",
   "metadata": {},
   "source": [
    "## Removing Outliers"
   ]
  },
  {
   "cell_type": "code",
   "execution_count": 11,
   "metadata": {},
   "outputs": [],
   "source": [
    "# df3.groupby(['Model'])['Price'].max().sort_values(ascending=False)\n",
    "# From this we can see there is a Combo model vehicle which is clearly an outlier other on Urus has same max and mean value so\n",
    "# the priceof urus might be that high"
   ]
  },
  {
   "cell_type": "code",
   "execution_count": 12,
   "metadata": {},
   "outputs": [],
   "source": [
    "df5=df3[df3['Price']<900000]\n",
    "df5=df5[df5['Price']>100]"
   ]
  },
  {
   "cell_type": "code",
   "execution_count": 13,
   "metadata": {
    "scrolled": true
   },
   "outputs": [
    {
     "data": {
      "text/plain": [
       "(18855, 17)"
      ]
     },
     "execution_count": 13,
     "metadata": {},
     "output_type": "execute_result"
    }
   ],
   "source": [
    "df5.shape\n",
    "# df5.describe()"
   ]
  },
  {
   "cell_type": "code",
   "execution_count": null,
   "metadata": {},
   "outputs": [],
   "source": []
  },
  {
   "cell_type": "markdown",
   "metadata": {},
   "source": [
    "## Adding Traning and Testing Data Sets"
   ]
  },
  {
   "cell_type": "code",
   "execution_count": 14,
   "metadata": {},
   "outputs": [],
   "source": [
    "df7=df5.append(df4)"
   ]
  },
  {
   "cell_type": "code",
   "execution_count": 15,
   "metadata": {},
   "outputs": [],
   "source": [
    "df8=df7[0:18855]\n",
    "df9=df7[18855:27100]"
   ]
  },
  {
   "cell_type": "code",
   "execution_count": 16,
   "metadata": {},
   "outputs": [
    {
     "name": "stdout",
     "output_type": "stream",
     "text": [
      "Price \t : \t\t 2285  labels\n",
      "Levy \t : \t\t 558  labels\n",
      "Manufacturer \t : \t\t 65  labels\n",
      "Model \t : \t\t 1585  labels\n",
      "Prod. year \t : \t\t 54  labels\n",
      "Category \t : \t\t 11  labels\n",
      "Leather interior \t : \t\t 2  labels\n",
      "Fuel type \t : \t\t 7  labels\n",
      "Engine volume \t : \t\t 107  labels\n",
      "Mileage \t : \t\t 7649  labels\n",
      "Cylinders \t : \t\t 13  labels\n",
      "Gear box type \t : \t\t 4  labels\n",
      "Drive wheels \t : \t\t 3  labels\n",
      "Doors \t : \t\t 3  labels\n",
      "Wheel \t : \t\t 2  labels\n",
      "Color \t : \t\t 16  labels\n",
      "Airbags \t : \t\t 17  labels\n"
     ]
    }
   ],
   "source": [
    " for col in df7.columns:\n",
    "    print(col,'\\t : \\t\\t', len(df5[col].unique()),' labels')"
   ]
  },
  {
   "cell_type": "code",
   "execution_count": null,
   "metadata": {},
   "outputs": [],
   "source": []
  },
  {
   "cell_type": "code",
   "execution_count": null,
   "metadata": {},
   "outputs": [],
   "source": []
  },
  {
   "cell_type": "markdown",
   "metadata": {},
   "source": [
    "## Data Cleaning"
   ]
  },
  {
   "cell_type": "code",
   "execution_count": 17,
   "metadata": {
    "scrolled": true
   },
   "outputs": [],
   "source": [
    "#Levy\n",
    "df7['Levy'].replace({'-':910.2}, inplace = True)\n",
    "df7['Levy']=pd.to_numeric(df7['Levy'])\n"
   ]
  },
  {
   "cell_type": "code",
   "execution_count": 18,
   "metadata": {},
   "outputs": [],
   "source": [
    "#Manufacturer I think it should be best to take almost all manufacturer\n",
    "# df7.Manufacturer.value_counts().sort_values(ascending=False).head(20)#30\n",
    "# df5.groupby(['Manufacturer'])['Price'].max().sort_values(ascending=False).head(5)\n"
   ]
  },
  {
   "cell_type": "code",
   "execution_count": 19,
   "metadata": {
    "scrolled": true
   },
   "outputs": [],
   "source": [
    "#Model  Either cleaning by some common terms like GLE, GLC or Range Rover etc\n",
    "# df7.Model.value_counts().sort_values(ascending=False).head(50)#50\n",
    "# df5.groupby(['Model'])['Price'].max().sort_values(ascending=False).head(20)\n",
    "new = df7['Model'].str.split(\" \", n = 1, expand = True)\n",
    "  \n",
    "# making separate first name column from new data frame\n",
    "df7['Model']= new[0]"
   ]
  },
  {
   "cell_type": "code",
   "execution_count": 20,
   "metadata": {},
   "outputs": [],
   "source": [
    "# df7['Model'].value_counts().sort_values(ascending=False).head(50)\n",
    "\n",
    "top20 = [x for x in df7.Model.value_counts().sort_values(ascending=False).head(20).index]\n",
    "\n",
    "# for label in top20:\n",
    "#     df7[label]=np.where(df7['Model']==label,1,0)\n",
    "\n"
   ]
  },
  {
   "cell_type": "code",
   "execution_count": 21,
   "metadata": {},
   "outputs": [],
   "source": [
    "def onehottop20(df, variable, topx):\n",
    "    for label in topx:\n",
    "        df[variable+'_'+label]=np.where(df7['Model']==label,1,0)\n",
    "\n",
    "onehottop20(df7,'Model', top20)"
   ]
  },
  {
   "cell_type": "code",
   "execution_count": 22,
   "metadata": {},
   "outputs": [],
   "source": [
    "#Prod Year\n",
    "df7['Prod. year']=2021-df7['Prod. year']"
   ]
  },
  {
   "cell_type": "code",
   "execution_count": 23,
   "metadata": {},
   "outputs": [
    {
     "data": {
      "text/plain": [
       "Sedan          12398\n",
       "Jeep            7768\n",
       "Hatchback       3868\n",
       "Minivan          920\n",
       "Coupe            742\n",
       "Universal        523\n",
       "Microbus         427\n",
       "Goods wagon      307\n",
       "Pickup            72\n",
       "Cabriolet         60\n",
       "Limousine         15\n",
       "Name: Category, dtype: int64"
      ]
     },
     "execution_count": 23,
     "metadata": {},
     "output_type": "execute_result"
    }
   ],
   "source": [
    "#Category\n",
    "df7.Category.value_counts().sort_values(ascending=False)#50"
   ]
  },
  {
   "cell_type": "code",
   "execution_count": 24,
   "metadata": {
    "scrolled": true
   },
   "outputs": [],
   "source": [
    "# Leather Interior\n",
    "df7['Leather interior'].replace({'Yes':1, 'No':0}, inplace = True)"
   ]
  },
  {
   "cell_type": "code",
   "execution_count": 25,
   "metadata": {},
   "outputs": [],
   "source": [
    "# Fuel Type\n",
    "# df7['Fuel type'].value_counts().sort_values(ascending=False)#50\n",
    "# df5.groupby(['Fuel type'])['Price'].max().sort_values(ascending=False)\n",
    "# pd.get_dummies(df7['Fuel type'], drop_first=True)\n",
    "# df7 = load_data() # reset dataframe\n",
    "df7 = pd.get_dummies(df7, columns=['Manufacturer','Fuel type', 'Category','Color'], drop_first=True)"
   ]
  },
  {
   "cell_type": "code",
   "execution_count": 26,
   "metadata": {},
   "outputs": [
    {
     "data": {
      "text/html": [
       "<div>\n",
       "<style scoped>\n",
       "    .dataframe tbody tr th:only-of-type {\n",
       "        vertical-align: middle;\n",
       "    }\n",
       "\n",
       "    .dataframe tbody tr th {\n",
       "        vertical-align: top;\n",
       "    }\n",
       "\n",
       "    .dataframe thead th {\n",
       "        text-align: right;\n",
       "    }\n",
       "</style>\n",
       "<table border=\"1\" class=\"dataframe\">\n",
       "  <thead>\n",
       "    <tr style=\"text-align: right;\">\n",
       "      <th></th>\n",
       "      <th>Price</th>\n",
       "      <th>Levy</th>\n",
       "      <th>Model</th>\n",
       "      <th>Prod. year</th>\n",
       "      <th>Leather interior</th>\n",
       "      <th>Engine volume</th>\n",
       "      <th>Mileage</th>\n",
       "      <th>Cylinders</th>\n",
       "      <th>Gear box type</th>\n",
       "      <th>Drive wheels</th>\n",
       "      <th>...</th>\n",
       "      <th>Color_Green</th>\n",
       "      <th>Color_Grey</th>\n",
       "      <th>Color_Orange</th>\n",
       "      <th>Color_Pink</th>\n",
       "      <th>Color_Purple</th>\n",
       "      <th>Color_Red</th>\n",
       "      <th>Color_Silver</th>\n",
       "      <th>Color_Sky blue</th>\n",
       "      <th>Color_White</th>\n",
       "      <th>Color_Yellow</th>\n",
       "    </tr>\n",
       "  </thead>\n",
       "  <tbody>\n",
       "    <tr>\n",
       "      <th>0</th>\n",
       "      <td>13328.0</td>\n",
       "      <td>1399.0</td>\n",
       "      <td>RX</td>\n",
       "      <td>11</td>\n",
       "      <td>1</td>\n",
       "      <td>3.5</td>\n",
       "      <td>186005 km</td>\n",
       "      <td>6.0</td>\n",
       "      <td>Automatic</td>\n",
       "      <td>4x4</td>\n",
       "      <td>...</td>\n",
       "      <td>0</td>\n",
       "      <td>0</td>\n",
       "      <td>0</td>\n",
       "      <td>0</td>\n",
       "      <td>0</td>\n",
       "      <td>0</td>\n",
       "      <td>1</td>\n",
       "      <td>0</td>\n",
       "      <td>0</td>\n",
       "      <td>0</td>\n",
       "    </tr>\n",
       "    <tr>\n",
       "      <th>1</th>\n",
       "      <td>16621.0</td>\n",
       "      <td>1018.0</td>\n",
       "      <td>Equinox</td>\n",
       "      <td>10</td>\n",
       "      <td>0</td>\n",
       "      <td>3</td>\n",
       "      <td>192000 km</td>\n",
       "      <td>6.0</td>\n",
       "      <td>Tiptronic</td>\n",
       "      <td>4x4</td>\n",
       "      <td>...</td>\n",
       "      <td>0</td>\n",
       "      <td>0</td>\n",
       "      <td>0</td>\n",
       "      <td>0</td>\n",
       "      <td>0</td>\n",
       "      <td>0</td>\n",
       "      <td>0</td>\n",
       "      <td>0</td>\n",
       "      <td>0</td>\n",
       "      <td>0</td>\n",
       "    </tr>\n",
       "    <tr>\n",
       "      <th>2</th>\n",
       "      <td>8467.0</td>\n",
       "      <td>910.2</td>\n",
       "      <td>FIT</td>\n",
       "      <td>15</td>\n",
       "      <td>0</td>\n",
       "      <td>1.3</td>\n",
       "      <td>200000 km</td>\n",
       "      <td>4.0</td>\n",
       "      <td>Variator</td>\n",
       "      <td>Front</td>\n",
       "      <td>...</td>\n",
       "      <td>0</td>\n",
       "      <td>0</td>\n",
       "      <td>0</td>\n",
       "      <td>0</td>\n",
       "      <td>0</td>\n",
       "      <td>0</td>\n",
       "      <td>0</td>\n",
       "      <td>0</td>\n",
       "      <td>0</td>\n",
       "      <td>0</td>\n",
       "    </tr>\n",
       "    <tr>\n",
       "      <th>3</th>\n",
       "      <td>3607.0</td>\n",
       "      <td>862.0</td>\n",
       "      <td>Escape</td>\n",
       "      <td>10</td>\n",
       "      <td>1</td>\n",
       "      <td>2.5</td>\n",
       "      <td>168966 km</td>\n",
       "      <td>4.0</td>\n",
       "      <td>Automatic</td>\n",
       "      <td>4x4</td>\n",
       "      <td>...</td>\n",
       "      <td>0</td>\n",
       "      <td>0</td>\n",
       "      <td>0</td>\n",
       "      <td>0</td>\n",
       "      <td>0</td>\n",
       "      <td>0</td>\n",
       "      <td>0</td>\n",
       "      <td>0</td>\n",
       "      <td>1</td>\n",
       "      <td>0</td>\n",
       "    </tr>\n",
       "    <tr>\n",
       "      <th>4</th>\n",
       "      <td>11726.0</td>\n",
       "      <td>446.0</td>\n",
       "      <td>FIT</td>\n",
       "      <td>7</td>\n",
       "      <td>1</td>\n",
       "      <td>1.3</td>\n",
       "      <td>91901 km</td>\n",
       "      <td>4.0</td>\n",
       "      <td>Automatic</td>\n",
       "      <td>Front</td>\n",
       "      <td>...</td>\n",
       "      <td>0</td>\n",
       "      <td>0</td>\n",
       "      <td>0</td>\n",
       "      <td>0</td>\n",
       "      <td>0</td>\n",
       "      <td>0</td>\n",
       "      <td>1</td>\n",
       "      <td>0</td>\n",
       "      <td>0</td>\n",
       "      <td>0</td>\n",
       "    </tr>\n",
       "  </tbody>\n",
       "</table>\n",
       "<p>5 rows × 131 columns</p>\n",
       "</div>"
      ],
      "text/plain": [
       "     Price    Levy    Model  Prod. year  Leather interior Engine volume  \\\n",
       "0  13328.0  1399.0       RX          11                 1           3.5   \n",
       "1  16621.0  1018.0  Equinox          10                 0             3   \n",
       "2   8467.0   910.2      FIT          15                 0           1.3   \n",
       "3   3607.0   862.0   Escape          10                 1           2.5   \n",
       "4  11726.0   446.0      FIT           7                 1           1.3   \n",
       "\n",
       "     Mileage  Cylinders Gear box type Drive wheels  ... Color_Green  \\\n",
       "0  186005 km        6.0     Automatic          4x4  ...           0   \n",
       "1  192000 km        6.0     Tiptronic          4x4  ...           0   \n",
       "2  200000 km        4.0      Variator        Front  ...           0   \n",
       "3  168966 km        4.0     Automatic          4x4  ...           0   \n",
       "4   91901 km        4.0     Automatic        Front  ...           0   \n",
       "\n",
       "  Color_Grey  Color_Orange  Color_Pink  Color_Purple  Color_Red  Color_Silver  \\\n",
       "0          0             0           0             0          0             1   \n",
       "1          0             0           0             0          0             0   \n",
       "2          0             0           0             0          0             0   \n",
       "3          0             0           0             0          0             0   \n",
       "4          0             0           0             0          0             1   \n",
       "\n",
       "   Color_Sky blue  Color_White  Color_Yellow  \n",
       "0               0            0             0  \n",
       "1               0            0             0  \n",
       "2               0            0             0  \n",
       "3               0            1             0  \n",
       "4               0            0             0  \n",
       "\n",
       "[5 rows x 131 columns]"
      ]
     },
     "execution_count": 26,
     "metadata": {},
     "output_type": "execute_result"
    }
   ],
   "source": [
    "df7.head()"
   ]
  },
  {
   "cell_type": "code",
   "execution_count": 27,
   "metadata": {},
   "outputs": [],
   "source": [
    "#Engine Volume\n",
    "# new data frame with split value columns\n",
    "new = df7['Engine volume'].str.split(\" \", n = 1, expand = True)\n",
    "  \n",
    "# making separate first name column from new data frame\n",
    "df7['Engine volume']= new[0]\n",
    "  \n",
    "# making separate last name column from new data frame\n",
    "df7['Turbo']= new[1]\n",
    "\n",
    "df7['Engine volume']=pd.to_numeric(df7['Engine volume'])\n"
   ]
  },
  {
   "cell_type": "code",
   "execution_count": 28,
   "metadata": {},
   "outputs": [],
   "source": [
    "# Turbo\n",
    "df7['Turbo']=df7['Turbo'].fillna(0)\n",
    "df7['Turbo'].replace({'None':0,'Turbo':1}, inplace = True)\n",
    "df7['Turbo']=pd.to_numeric(df7['Turbo'])\n",
    "# df7['Turbo'].replace('None',0, inplace = True)\n",
    "# df7['Turbo'].replace('Turbo',1, inplace = True)\n",
    "\n"
   ]
  },
  {
   "cell_type": "code",
   "execution_count": 29,
   "metadata": {},
   "outputs": [],
   "source": [
    "#Milege\n",
    "new = df7['Mileage'].str.split(\" \", n = 1, expand = True)\n",
    "  \n",
    "# making separate first name column from new data frame\n",
    "df7['Mileage']= new[0]\n",
    "#all the dimensions are in km\n",
    "df7['Mileage']=pd.to_numeric(df7['Mileage'])"
   ]
  },
  {
   "cell_type": "code",
   "execution_count": 30,
   "metadata": {},
   "outputs": [],
   "source": [
    "#Cylinders\n",
    "# df8['Cylinders'].value_counts().sort_values(ascending=False)\n",
    "# only 6 are more than 12 which can be removed\n"
   ]
  },
  {
   "cell_type": "code",
   "execution_count": 31,
   "metadata": {},
   "outputs": [],
   "source": [
    "#GearBoxType\n",
    "# df5.groupby(['Gear box type'])['Price'].max()\n",
    "# df7['Gear box type'].value_counts().sort_values(ascending=False).head(5)\n",
    "df7['Gear box type'].replace({'Manual':0, 'Variator':1, 'Automatic':2, 'Tiptronic':3}, inplace = True)"
   ]
  },
  {
   "cell_type": "code",
   "execution_count": 32,
   "metadata": {},
   "outputs": [],
   "source": [
    "#Drive Wheels\n",
    "# df5.groupby(['Drive wheels'])['Price'].max()\n",
    "# From max and mean values as well as internet search shows that AWD>RWD>FWD\n",
    "# df7['Drive wheels'].value_counts().sort_values(ascending=False).head(5)\n",
    "df7['Drive wheels'].replace({'Front':0, 'Rear':1, '4x4':2}, inplace = True)"
   ]
  },
  {
   "cell_type": "code",
   "execution_count": 33,
   "metadata": {},
   "outputs": [],
   "source": [
    "# Doors\n",
    "# df6['Doors'].value_counts().sort_values(ascending=False).head(5)\n",
    "# df3.groupby(['Doors'])['Price'].mean()\n",
    "# Since Median for all types are almost same there is no distinct difference but mean of 02 is large\n",
    "# so it is given the largest priority after which 04 which are insanely large in number after that >5\n",
    "\n",
    "df7['Doors'].replace({'04-May':1, '02-Mar':2, '>5':0}, inplace = True)"
   ]
  },
  {
   "cell_type": "code",
   "execution_count": 34,
   "metadata": {},
   "outputs": [],
   "source": [
    "# Wheel\n",
    "# df6['Wheel'].value_counts().sort_values(ascending=False).head(5)#50\n",
    "# df3.groupby(['Wheel'])['Price'].mean()\n",
    "df7['Wheel'].replace({'Left wheel':1, 'Right-hand drive':0}, inplace = True)"
   ]
  },
  {
   "cell_type": "code",
   "execution_count": 35,
   "metadata": {
    "scrolled": true
   },
   "outputs": [],
   "source": [
    "# Color\n",
    "# df3.groupby(['Color'])['Price'].mean()\n",
    "# df5.groupby(['Color'])['Price'].mean()\n"
   ]
  },
  {
   "cell_type": "code",
   "execution_count": 36,
   "metadata": {},
   "outputs": [],
   "source": [
    "#Airbags\n",
    "# df8['Airbags'].value_counts()"
   ]
  },
  {
   "cell_type": "code",
   "execution_count": 37,
   "metadata": {},
   "outputs": [],
   "source": [
    "df7.drop(['Model'], axis=1, inplace = True)"
   ]
  },
  {
   "cell_type": "code",
   "execution_count": 38,
   "metadata": {},
   "outputs": [
    {
     "data": {
      "text/plain": [
       "(27100, 131)"
      ]
     },
     "execution_count": 38,
     "metadata": {},
     "output_type": "execute_result"
    }
   ],
   "source": [
    "df7.shape"
   ]
  },
  {
   "cell_type": "code",
   "execution_count": 39,
   "metadata": {},
   "outputs": [],
   "source": [
    "df8=df7[0:18855]\n",
    "df9=df7[18855:27100]"
   ]
  },
  {
   "cell_type": "code",
   "execution_count": 40,
   "metadata": {},
   "outputs": [
    {
     "data": {
      "text/plain": [
       "(18855, 131)"
      ]
     },
     "execution_count": 40,
     "metadata": {},
     "output_type": "execute_result"
    }
   ],
   "source": [
    "df8.shape"
   ]
  },
  {
   "cell_type": "code",
   "execution_count": null,
   "metadata": {},
   "outputs": [],
   "source": []
  },
  {
   "cell_type": "code",
   "execution_count": 41,
   "metadata": {},
   "outputs": [],
   "source": [
    "# AnotherWay to change values\n",
    "# df.loc[df.Weight == \"155\", \"Name\"] = \"John\"\n",
    "# Name becomes \"John\" if Weight is 155"
   ]
  },
  {
   "cell_type": "markdown",
   "metadata": {},
   "source": [
    "## Machine Learning"
   ]
  },
  {
   "cell_type": "code",
   "execution_count": 42,
   "metadata": {},
   "outputs": [],
   "source": [
    "# df8- Training Data- (18855, 131)\n",
    "# df9 Testing Data -(8245, 131)"
   ]
  },
  {
   "cell_type": "code",
   "execution_count": 43,
   "metadata": {},
   "outputs": [],
   "source": [
    "Xtrain=df8.drop('Price',axis=1)\n",
    "ytrain=df8['Price']\n",
    "Xtest=df9.drop('Price',axis=1)\n",
    "ytest=df9['Price']"
   ]
  },
  {
   "cell_type": "code",
   "execution_count": 44,
   "metadata": {},
   "outputs": [
    {
     "data": {
      "text/plain": [
       "RandomForestRegressor(n_estimators=1000)"
      ]
     },
     "execution_count": 44,
     "metadata": {},
     "output_type": "execute_result"
    }
   ],
   "source": [
    "\n",
    "# from sklearn.ensemble import RandomForestRegressor\n",
    "# rfr = RandomForestRegressor(n_estimators=1000)\n",
    "# rfr.fit(Xtrain,ytrain)"
   ]
  },
  {
   "cell_type": "code",
   "execution_count": 65,
   "metadata": {},
   "outputs": [
    {
     "name": "stdout",
     "output_type": "stream",
     "text": [
      "[02:39:28] WARNING: C:/Users/Administrator/workspace/xgboost-win64_release_1.4.0/src/objective/regression_obj.cu:171: reg:linear is now deprecated in favor of reg:squarederror.\n"
     ]
    },
    {
     "data": {
      "text/plain": [
       "XGBRegressor(base_score=0.5, booster='gbtree', colsample_bylevel=1,\n",
       "             colsample_bynode=1, colsample_bytree=0.7, gamma=0, gpu_id=-1,\n",
       "             importance_type='gain', interaction_constraints='',\n",
       "             learning_rate=0.06, max_delta_step=0, max_depth=8,\n",
       "             min_child_weight=1, missing=nan, monotone_constraints='()',\n",
       "             n_estimators=500, n_jobs=4, num_parallel_tree=1,\n",
       "             objective='reg:linear', random_state=0, reg_alpha=0, reg_lambda=1,\n",
       "             scale_pos_weight=1, subsample=1, tree_method='exact',\n",
       "             validate_parameters=1, verbosity=None)"
      ]
     },
     "execution_count": 65,
     "metadata": {},
     "output_type": "execute_result"
    }
   ],
   "source": [
    "# import xgboost\n",
    "# xgb_reg = xgboost.XGBRegressor(colsample_bytree= 0.7, gamma= 0, learning_rate= 0.06, max_depth= 8, min_child_weight= 1, n_estimators= 500, objective= 'reg:linear', subsample= 1)\n",
    "# xgb_reg.fit(Xtrain,ytrain)"
   ]
  },
  {
   "cell_type": "code",
   "execution_count": 66,
   "metadata": {},
   "outputs": [],
   "source": [
    "# #Predictions \n",
    "# predict=xgb_reg.predict(Xtest)\n",
    "# output=pd.DataFrame()\n",
    "# output[\"Price\"]=pd.Series(predict)\n",
    "# output.to_csv(\"submission.csv\",index=False)"
   ]
  },
  {
   "cell_type": "code",
   "execution_count": 46,
   "metadata": {},
   "outputs": [],
   "source": [
    "# train=df7[0:14000]\n",
    "# cv=df7[14000:18855]\n",
    "# test=df7[18855:]\n",
    "# Xtrain=train.drop('Price',axis=1)\n",
    "# ytrain=train['Price']\n",
    "# Xcv=cv.drop('Price',axis=1)\n",
    "# ycv=cv['Price']\n",
    "# Xtest=test.drop('Price',axis=1)\n",
    "# # ytest=df9['Price']"
   ]
  },
  {
   "cell_type": "code",
   "execution_count": 47,
   "metadata": {
    "scrolled": true
   },
   "outputs": [],
   "source": [
    "# #Feature Scaling\n",
    "# from sklearn.preprocessing import StandardScaler\n",
    "# sc = StandardScaler()\n",
    "# sc.fit(Xtrain)\n",
    "# Xtrain= sc.transform(Xtrain)\n",
    "# Xtest = sc.transform(Xtest)"
   ]
  },
  {
   "cell_type": "markdown",
   "metadata": {},
   "source": [
    "## Linear Regression"
   ]
  },
  {
   "cell_type": "code",
   "execution_count": 48,
   "metadata": {},
   "outputs": [],
   "source": [
    "# from sklearn.linear_model import LinearRegression\n",
    "# from sklearn.linear_model import Lasso\n",
    "# from sklearn.linear_model import Ridge\n",
    "# from sklearn.metrics import mean_squared_error\n",
    "# lr = LinearRegression()\n",
    "# lr_lasso = Lasso()\n",
    "# lr_ridge = Ridge()"
   ]
  },
  {
   "cell_type": "code",
   "execution_count": 49,
   "metadata": {},
   "outputs": [],
   "source": [
    "# def rmse(y_test, y_pred):\n",
    "#   return np.sqrt(mean_squared_error(y_test, y_pred))"
   ]
  },
  {
   "cell_type": "code",
   "execution_count": 50,
   "metadata": {},
   "outputs": [],
   "source": [
    "# lr.fit(Xtrain, ytrain)\n",
    "# lr_score = lr.score(Xcv, ycv) # with all num var 0.7842744111909903\n",
    "# lr_rmse = rmse(ycv, lr.predict(Xcv))\n",
    "# lr_score, lr_rmse"
   ]
  },
  {
   "cell_type": "code",
   "execution_count": 51,
   "metadata": {},
   "outputs": [],
   "source": [
    "# # Lasso \n",
    "# lr_lasso.fit(Xtrain, ytrain)\n",
    "# lr_lasso_score=lr_lasso.score(Xcv, ycv) # with balcony 0.5162364637824872\n",
    "# lr_lasso_rmse = rmse(ycv, lr_lasso.predict(Xcv))\n",
    "# lr_lasso_score, lr_lasso_rmse"
   ]
  },
  {
   "cell_type": "markdown",
   "metadata": {},
   "source": [
    "## SVM"
   ]
  },
  {
   "cell_type": "code",
   "execution_count": 52,
   "metadata": {},
   "outputs": [],
   "source": [
    "# from sklearn.svm import SVR\n",
    "# svr = SVR()\n",
    "# svr.fit(Xtrain,ytrain)\n",
    "# svr_score=svr.score(Xcv,ycv) # with 0.2630802200711362\n",
    "# svr_rmse = rmse(ycv, svr.predict(Xcv))\n",
    "# svr_score, svr_rmse"
   ]
  },
  {
   "cell_type": "markdown",
   "metadata": {},
   "source": [
    "## RFC"
   ]
  },
  {
   "cell_type": "code",
   "execution_count": 53,
   "metadata": {},
   "outputs": [],
   "source": [
    "\n",
    "# from sklearn.ensemble import RandomForestRegressor\n",
    "# rfr = RandomForestRegressor()\n",
    "# rfr.fit(Xtrain,ytrain)\n",
    "# rfr_score=rfr.score(Xcv,ycv) # with 0.8863376025408044\n",
    "# rfr_rmse = rmse(ycv, rfr.predict(Xcv))\n",
    "# rfr_score, rfr_rmse"
   ]
  },
  {
   "cell_type": "markdown",
   "metadata": {},
   "source": [
    "## XG boost"
   ]
  },
  {
   "cell_type": "code",
   "execution_count": 54,
   "metadata": {},
   "outputs": [],
   "source": [
    "# import xgboost\n",
    "# xgb_reg = xgboost.XGBRegressor({'colsample_bytree': 0.7, 'gamma': 0, 'learning_rate': 0.06, 'max_depth': 8, 'min_child_weight': 1, 'n_estimators': 500, 'objective': 'reg:linear', 'subsample': 1})\n",
    "# xgb_reg.fit(Xtrain,ytrain)\n",
    "# xgb_reg_score=xgb_reg.score(Xcv,ycv) # with 0.8838865742273464\n",
    "# xgb_reg_rmse = rmse(ycv, xgb_reg.predict(Xcv))\n",
    "# xgb_reg_score, xgb_reg_rmse"
   ]
  },
  {
   "cell_type": "code",
   "execution_count": null,
   "metadata": {},
   "outputs": [],
   "source": []
  },
  {
   "cell_type": "code",
   "execution_count": 55,
   "metadata": {},
   "outputs": [],
   "source": [
    "# from sklearn.model_selection import cross_val_score\n",
    "# cvs_rfr2 = cross_val_score(RandomForestRegressor(), Xtrain,ytrain, cv = 10)\n",
    "# cvs_rfr2, cvs_rfr2.mean() # 0.9652425691235843)"
   ]
  },
  {
   "cell_type": "code",
   "execution_count": null,
   "metadata": {},
   "outputs": [],
   "source": []
  },
  {
   "cell_type": "code",
   "execution_count": 56,
   "metadata": {},
   "outputs": [],
   "source": [
    "# from sklearn.model_selection import GridSearchCV\n",
    "# from xgboost.sklearn import XGBRegressor\n",
    "\n",
    "# # Various hyper-parameters to tune\n",
    "# xgb1 = XGBRegressor()\n",
    "# parameters = {'learning_rate': [0.1,0.03, 0.06], #so called `eta` value, # [default=0.3] Analogous to learning rate in GBM\n",
    "#               'min_child_weight': [1,3,5], #[default=1] Defines the minimum sum of weights of all observations required in a child.\n",
    "#               'max_depth': [4, 6, 8], #[default=6] The maximum depth of a tree,\n",
    "#               'gamma':[0,0.1,0.001,0.2], #Gamma specifies the minimum loss reduction required to make a split.\n",
    "#               'subsample': [0.7,1,1.5], #Denotes the fraction of observations to be randomly samples for each tree.\n",
    "#               'colsample_bytree': [0.7,1,1.5], #Denotes the fraction of columns to be randomly samples for each tree.\n",
    "#               'objective':['reg:linear'], #This defines the loss function to be minimized.\n",
    "#               'n_estimators': [100,300,500]}\n",
    "\n",
    "# xgb_grid = GridSearchCV(xgb1,\n",
    "#                         parameters,\n",
    "#                         cv = 2,\n",
    "#                         n_jobs = -1,\n",
    "#                         verbose=True)\n",
    "\n",
    "# xgb_grid.fit(Xtrain, ytrain)\n",
    "\n",
    "# print(xgb_grid.best_score_) # 0.9397345161940295\n",
    "# print(xgb_grid.best_params_)\n",
    "# # reg:linear is now deprecated in favor of reg:squarederror.\n",
    "# # 0.6729826498507804\n",
    "# # {'colsample_bytree': 0.7, 'gamma': 0, 'learning_rate': 0.06, 'max_depth': 8, 'min_child_weight': 1, 'n_estimators': 500, 'objective': 'reg:linear', 'subsample': 1}"
   ]
  },
  {
   "cell_type": "code",
   "execution_count": 57,
   "metadata": {},
   "outputs": [],
   "source": [
    "\n",
    "# xgb_tune = xgb_grid.estimator\n",
    "\n",
    "# xgb_tune.fit(Xtrain,ytrain) # 0.9117591385438816\n",
    "# # xgb_tune.score(X_test,y_test)"
   ]
  },
  {
   "cell_type": "code",
   "execution_count": 58,
   "metadata": {},
   "outputs": [],
   "source": [
    "# cvs = cross_val_score(xgb_tune, Xtrain,ytrain, cv = 10)\n",
    "# cvs, cvs.mean() #  0.9645582338461773)"
   ]
  },
  {
   "cell_type": "code",
   "execution_count": 59,
   "metadata": {},
   "outputs": [
    {
     "data": {
      "text/plain": [
       "'cvs = cross_val_score(xgb_tune, X_train,y_train, cv = 10)\\ncvs, cvs.mean() #  0.9645582338461773)'"
      ]
     },
     "execution_count": 59,
     "metadata": {},
     "output_type": "execute_result"
    }
   ],
   "source": [
    "'''cvs = cross_val_score(xgb_tune, X_train,y_train, cv = 10)\n",
    "cvs, cvs.mean() #  0.9645582338461773)'''"
   ]
  },
  {
   "cell_type": "code",
   "execution_count": null,
   "metadata": {},
   "outputs": [],
   "source": []
  },
  {
   "cell_type": "code",
   "execution_count": null,
   "metadata": {},
   "outputs": [],
   "source": []
  },
  {
   "cell_type": "code",
   "execution_count": null,
   "metadata": {},
   "outputs": [],
   "source": []
  },
  {
   "cell_type": "code",
   "execution_count": null,
   "metadata": {},
   "outputs": [],
   "source": []
  }
 ],
 "metadata": {
  "kernelspec": {
   "display_name": "Python 3",
   "language": "python",
   "name": "python3"
  },
  "language_info": {
   "codemirror_mode": {
    "name": "ipython",
    "version": 3
   },
   "file_extension": ".py",
   "mimetype": "text/x-python",
   "name": "python",
   "nbconvert_exporter": "python",
   "pygments_lexer": "ipython3",
   "version": "3.8.5"
  }
 },
 "nbformat": 4,
 "nbformat_minor": 4
}
